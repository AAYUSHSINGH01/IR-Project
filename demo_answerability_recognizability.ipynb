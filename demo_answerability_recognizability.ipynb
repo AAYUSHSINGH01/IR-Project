{
 "cells": [
  {
   "cell_type": "code",
   "execution_count": null,
   "metadata": {},
   "outputs": [],
   "source": [
    "import numpy as np\n",
    "import tensorflow as tf\n",
    "import keras\n",
    "from keras.preprocessing import image\n",
    "from keras.applications.imagenet_utils import preprocess_input\n",
    "import model.VqaQualityModel as VQM \n",
    "from tqdm import tqdm\n",
    "import os, json, nltk, csv\n",
    "import sklearn.metrics\n",
    "os.environ[\"CUDA_VISIBLE_DEVICES\"]=\"1\""
   ]
  },
  {
   "cell_type": "code",
   "execution_count": null,
   "metadata": {},
   "outputs": [],
   "source": [
    "data = json.load(open('./data/vqa_quality_merger.json'))"
   ]
  },
  {
   "cell_type": "code",
   "execution_count": null,
   "metadata": {},
   "outputs": [],
   "source": [
    "# create the model:\n",
    "fmap_source = 'resnet152' # feature map source: detectron or resnet152\n",
    "# main model\n",
    "model = VQM.VqaQualityModel(fmap_source)\n",
    "\n",
    "# inputs\n",
    "f_map = tf.placeholder(tf.float32, shape=[None] + model.options['img_feat_shape'])\n",
    "q_input = tf.placeholder(tf.int32, shape=[None, model.options['question_len']])\n",
    "\n",
    "pred = model.build_graph(f_map, q_input)\n",
    "sess = tf.Session()\n",
    "all_saver = tf.train.Saver() \n",
    "all_saver.restore(sess, './ckpt_ans_rec/{}/{}-ckpt'.format(fmap_source, fmap_source)) "
   ]
  },
  {
   "cell_type": "code",
   "execution_count": null,
   "metadata": {},
   "outputs": [],
   "source": [
    "FMAP_PATH = 'fmap/{}/'.format(fmap_source)\n",
    "SPLIT = 'val' # evaluate on train/val/test set\n",
    "data_split = data[SPLIT]\n",
    "ans_pred = np.zeros((len(data_split['image']), 2))\n",
    "for i, image_name in enumerate(tqdm(data_split['image'])):\n",
    "    img_feat = np.load(FMAP_PATH+'{}/{}.npy'.format(SPLIT, image_name[:-4])) \\\n",
    "                                            .reshape([1] + model.options['img_feat_shape'])\n",
    "    enc_question = data_split['question'][i]\n",
    "    output = sess.run(pred, feed_dict={f_map: img_feat, q_input: [enc_question]})\n",
    "    ans_pred[i] = 1.0 - output['ans_and_rec']\n"
   ]
  },
  {
   "cell_type": "code",
   "execution_count": null,
   "metadata": {},
   "outputs": [],
   "source": [
    "# evaluation\n",
    "eval_ = {}        \n",
    "\n",
    "tmp = np.asarray(data_split['answerable'])\n",
    "ans_true_ = 1 - tmp\n",
    "ans_pred_ = ans_pred[:,0]\n",
    "eval_[\"ans_ap\"] = sklearn.metrics.average_precision_score(ans_true_, ans_pred_)\n",
    "\n",
    "idx = tmp < 0.5\n",
    "ans_true_ = 1 - np.asarray(data_split['recognizable'])[idx]\n",
    "ans_pred_ = ans_pred[:,1:][idx]\n",
    "eval_[\"rec_ap\"] = sklearn.metrics.average_precision_score(ans_true_, ans_pred_)\n",
    "\n",
    "print(eval_[\"ans_ap\"], eval_[\"rec_ap\"])\n"
   ]
  },
  {
   "cell_type": "code",
   "execution_count": null,
   "metadata": {},
   "outputs": [],
   "source": [
    "# directly compute resnet152 features for prediction\n",
    "\n",
    "# if fmap_source == 'resnet152':\n",
    "#     resnet152 = keras.applications.ResNet152(include_top=False, weights='imagenet', input_shape=[448, 448, 3])\n",
    "#     base_model = keras.models.Model(inputs=resnet152.input, outputs=resnet152.get_layer('conv5_block3_add').output)\n",
    "\n",
    "# SPLIT = 'val' # evaluate on train/val/test set\n",
    "# data_split = data[SPLIT]\n",
    "# ans_pred = np.zeros((len(data_split['image']), 2))\n",
    "# for i, image_name in enumerate(tqdm(data_split['image'])):\n",
    "#     img = image.load_img(IMG_PATH+'{}/{}'.format(SPLIT, image_name), target_size=(448,448)) \n",
    "#     img = image.img_to_array(img)\n",
    "#     img = np.expand_dims(img, axis=0)\n",
    "#     img = preprocess_input(img)\n",
    "#     img_feat = base_model.predict(img)\n",
    "#     enc_question = data_split['question'][i]\n",
    "#     output = sess.run(pred, feed_dict={f_map: img_feat, q_input: [enc_question]})\n",
    "#     ans_pred[i] = 1.0 - output['ans_and_rec']\n",
    "    \n"
   ]
  },
  {
   "cell_type": "code",
   "execution_count": null,
   "metadata": {},
   "outputs": [],
   "source": []
  }
 ],
 "metadata": {
  "kernelspec": {
   "display_name": "tf_v1.14",
   "language": "python",
   "name": "tf_v1.14"
  },
  "language_info": {
   "codemirror_mode": {
    "name": "ipython",
    "version": 3
   },
   "file_extension": ".py",
   "mimetype": "text/x-python",
   "name": "python",
   "nbconvert_exporter": "python",
   "pygments_lexer": "ipython3",
   "version": "3.7.4"
  }
 },
 "nbformat": 4,
 "nbformat_minor": 2
}
