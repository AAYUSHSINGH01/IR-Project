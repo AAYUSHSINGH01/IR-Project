{
 "cells": [
  {
   "cell_type": "code",
   "execution_count": null,
   "metadata": {},
   "outputs": [],
   "source": [
    "import numpy as np\n",
    "import tensorflow as tf\n",
    "from  tensorflow import keras\n",
    "from tensorflow.keras import layers\n",
    "import tensorflow.keras.backend as K\n",
    "import utils.DatasetAPI_to_tensor as VizWiz_Dat\n",
    "import sklearn.metrics\n",
    "import matplotlib.pyplot as plt\n",
    "import os\n",
    "os.environ[\"CUDA_VISIBLE_DEVICES\"]=\"2\""
   ]
  },
  {
   "cell_type": "code",
   "execution_count": null,
   "metadata": {},
   "outputs": [],
   "source": [
    "class RecModel():\n",
    "    def __init__(self):\n",
    "        self.global_avg = layers.GlobalAveragePooling2D()\n",
    "        self.dense_1 = layers.Dense(1000, input_shape=(2048,), activation='relu')\n",
    "        self.dense_2 = layers.Dense(1, input_shape=(1000,), activation='sigmoid')\n",
    "    \n",
    "    def build_graph(self, feat):\n",
    "        self.pred = self.dense_2(self.dense_1(self.global_avg(feat)))\n",
    "        return self.pred\n",
    "        \n",
    "    def comp_loss(self, label):\n",
    "        loss = K.binary_crossentropy(label, self.pred)\n",
    "        return loss"
   ]
  },
  {
   "cell_type": "code",
   "execution_count": null,
   "metadata": {},
   "outputs": [],
   "source": [
    "FEAT_SOURCE = 'detectron' # resnet152 or detectron\n",
    "\n",
    "model = RecModel()\n",
    "\n",
    "val_ds_iter = VizWiz_Dat.data_iterator('val', feat_source=FEAT_SOURCE, batch_size=256)\n",
    "test_ds_iter = VizWiz_Dat.data_iterator('test', feat_source=FEAT_SOURCE, batch_size=256)\n",
    "val_f_map, val_recognizable  = val_ds_iter.get_next()\n",
    "test_f_map, test_recognizable  = test_ds_iter.get_next()\n",
    "\n",
    "val_pred = model.build_graph(val_f_map)\n",
    "test_pred = model.build_graph(test_f_map)\n",
    "\n",
    "sess = tf.Session()\n",
    "all_saver = tf.train.Saver() "
   ]
  },
  {
   "cell_type": "code",
   "execution_count": null,
   "metadata": {},
   "outputs": [],
   "source": [
    "all_saver.restore(sess, './ckpt_rec/{}/{}-ckpt'.format(FEAT_SOURCE, FEAT_SOURCE))\n",
    "sess.run(test_ds_iter.initializer)\n",
    "pred_, true_ = sess.run([test_pred, test_recognizable], \n",
    "                                feed_dict={keras.backend.learning_phase(): 0})\n",
    "while True:\n",
    "    try:\n",
    "        pred, true = sess.run([test_pred, test_recognizable], \n",
    "                                feed_dict={keras.backend.learning_phase(): 0})\n",
    "        pred_ = np.concatenate((pred_, pred))\n",
    "        true_ = np.concatenate((true_, true))\n",
    "\n",
    "    except tf.errors.OutOfRangeError:\n",
    "        ans_pred_ = 1.0 - pred_\n",
    "        ans_true_ = 1 - true_\n",
    "        ap = sklearn.metrics.average_precision_score(ans_true_, ans_pred_)\n",
    "        break\n",
    "print(ap)"
   ]
  },
  {
   "cell_type": "code",
   "execution_count": null,
   "metadata": {},
   "outputs": [],
   "source": []
  }
 ],
 "metadata": {
  "kernelspec": {
   "display_name": "tf_v1.14",
   "language": "python",
   "name": "tf_v1.14"
  },
  "language_info": {
   "codemirror_mode": {
    "name": "ipython",
    "version": 3
   },
   "file_extension": ".py",
   "mimetype": "text/x-python",
   "name": "python",
   "nbconvert_exporter": "python",
   "pygments_lexer": "ipython3",
   "version": "3.7.4"
  }
 },
 "nbformat": 4,
 "nbformat_minor": 2
}
