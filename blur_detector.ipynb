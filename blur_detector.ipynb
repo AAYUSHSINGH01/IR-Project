{
 "cells": [
  {
   "cell_type": "code",
   "execution_count": 1,
   "metadata": {},
   "outputs": [],
   "source": [
    "import cv2\n",
    "import os\n",
    "import csv\n",
    "\n",
    "def variance_of_laplacian(image):\n",
    "    return cv2.Laplacian(image, cv2.CV_64F).var()\n",
    "\n",
    "# Path to directory containing images\n",
    "image_dir = 'fmap/detectron/train'\n",
    "\n",
    "# Create CSV file and write header row\n",
    "with open('blur_detection_results_train.csv', 'w', newline='') as file:\n",
    "    writer = csv.writer(file)\n",
    "    writer.writerow(['filename', 'blur_score', 'blur_detection_result'])\n",
    "\n",
    "    # Loop through all images in directory\n",
    "    for filename in os.listdir(image_dir):\n",
    "        if filename.endswith('.jpg') or filename.endswith('.png'):\n",
    "            # Read image and convert to grayscale\n",
    "            image = cv2.imread(os.path.join(image_dir, filename))\n",
    "            gray = cv2.cvtColor(image, cv2.COLOR_BGR2GRAY)\n",
    "\n",
    "            # Calculate blur score and determine blur detection result\n",
    "            blur_score = variance_of_laplacian(gray)\n",
    "            if blur_score < 100:\n",
    "                blur_detection_result = 'blurry'\n",
    "            else:\n",
    "                blur_detection_result = 'not blurry'\n",
    "\n",
    "            # Write row to CSV file\n",
    "            writer.writerow([filename, blur_score, blur_detection_result])\n",
    "\n"
   ]
  }
 ],
 "metadata": {
  "kernelspec": {
   "display_name": "Python 3",
   "language": "python",
   "name": "python3"
  },
  "language_info": {
   "codemirror_mode": {
    "name": "ipython",
    "version": 3
   },
   "file_extension": ".py",
   "mimetype": "text/x-python",
   "name": "python",
   "nbconvert_exporter": "python",
   "pygments_lexer": "ipython3",
   "version": "3.10.7"
  },
  "orig_nbformat": 4,
  "vscode": {
   "interpreter": {
    "hash": "26de051ba29f2982a8de78e945f0abaf191376122a1563185a90213a26c5da77"
   }
  }
 },
 "nbformat": 4,
 "nbformat_minor": 2
}
